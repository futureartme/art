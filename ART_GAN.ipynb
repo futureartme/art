{
  "nbformat": 4,
  "nbformat_minor": 0,
  "metadata": {
    "colab": {
      "name": "ART_GAN.ipynb",
      "provenance": [],
      "collapsed_sections": []
    },
    "kernelspec": {
      "name": "python3",
      "display_name": "Python 3"
    },
    "language_info": {
      "name": "python"
    },
    "accelerator": "GPU"
  },
  "cells": [
    {
      "cell_type": "code",
      "metadata": {
        "id": "3ZDLAaTXzbpk"
      },
      "source": [
        "from google.colab import drive\n",
        "drive.mount('/content/drive')"
      ],
      "execution_count": null,
      "outputs": []
    },
    {
      "cell_type": "code",
      "metadata": {
        "id": "g0_DGOKbG89l"
      },
      "source": [
        "!nvidia-smi"
      ],
      "execution_count": null,
      "outputs": []
    },
    {
      "cell_type": "code",
      "metadata": {
        "id": "58-N13hwmnd-"
      },
      "source": [
        "import os\n",
        "import re\n",
        "import bs4\n",
        "import time\n",
        "import random\n",
        "import urllib\n",
        "import argparse\n",
        "import itertools\n",
        "import urllib.request\n",
        "import multiprocessing\n",
        "from bs4 import BeautifulSoup\n",
        "from multiprocessing.dummy import Pool\n",
        " \n",
        "\n",
        "img_count = 0\n",
        "downloaded_count = 0\n",
        "\n",
        "\n",
        "def get_paintings(count, genre):\n",
        "    try:\n",
        "        time.sleep(2.0 * random.random())\n",
        "        url = f\"https://www.wikiart.org/en/paintings-by-genre/{genre}/{str(count)}\"\n",
        "        print(url)\n",
        "        soup = BeautifulSoup(urllib.request.urlopen(url), \"lxml\")\n",
        "        regex = r'https?://uploads[0-9]+[^/\\s]+/\\S+\\.jpg'\n",
        "        url_list = re.findall(regex, str(soup.html()))\n",
        "        count += len(url_list)\n",
        "        return url_list\n",
        "    except:\n",
        "        print('failed')\n",
        "\n",
        "\n",
        "def downloader(link, genre, output_dir):\n",
        "    global downloaded_count, img_count\n",
        "    item, file = link\n",
        "    filepath = file.split('/')\n",
        "    savepath = '%s/%s/%s' % (output_dir, genre, filepath[-1])    \n",
        "    try:\n",
        "        time.sleep(0.2) \n",
        "        urllib.request.urlretrieve(file, savepath)\n",
        "        downloaded_count += 1\n",
        "        if downloaded_count % 100 == 0:\n",
        "            print('downloaded %d / %d...' % (downloaded_count, img_count))\n",
        "    except Exception as e:\n",
        "        print(\"failed \" + str(file), e) \n",
        "\n",
        "\n",
        "def main(genre, num_pages, output_dir):\n",
        "    global img_count\n",
        "    print('gathering links')\n",
        "    threadpool = Pool(multiprocessing.cpu_count() - 1)\n",
        "    numbers = list(range(1, num_pages))\n",
        "    wikiart_pages = threadpool.starmap(get_paintings, zip(numbers, itertools.repeat(genre))) \n",
        "    threadpool.close()\n",
        "    threadpool.join()\n",
        "\n",
        "    pages = [page for page in wikiart_pages if page ]\n",
        "    items = [item for sublist in pages for item in sublist]\n",
        "    items = list(set(items))\n",
        "    img_count = len(items)\n",
        "    \n",
        "    if not os.path.isdir('%s/%s' % (output_dir, genre)):\n",
        "        os.mkdir('%s/%s' % (output_dir, genre))\n",
        "    \n",
        "    print('attempting to download %d images' % img_count)\n",
        "    threadpool = Pool(multiprocessing.cpu_count() - 1)\n",
        "    threadpool.starmap(downloader, zip(enumerate(items), itertools.repeat(genre), itertools.repeat(output_dir)))\n",
        "    threadpool.close    \n",
        "    threadpool.close()\n",
        "\n",
        "\n",
        "\n",
        "main('portrait', 1000, 'drive/MyDrive/output_dir')"
      ],
      "execution_count": null,
      "outputs": []
    },
    {
      "cell_type": "code",
      "metadata": {
        "id": "-fWqF9_oEdK3"
      },
      "source": [
        "import os\n",
        "import numpy as np\n",
        "from PIL import Image\n",
        "from keras.optimizers import Adam\n",
        "from IPython.display import Image as Iimage\n",
        "from keras.utils.vis_utils import plot_model\n",
        "from keras.models import Sequential, Model, load_model\n",
        "from keras.layers.advanced_activations import LeakyReLU\n",
        "from keras.layers.convolutional import UpSampling2D, Conv2D\n",
        "from keras.layers import Input, Reshape, Dropout, Dense, Flatten, BatchNormalization, Activation, ZeroPadding2D"
      ],
      "execution_count": null,
      "outputs": []
    },
    {
      "cell_type": "code",
      "metadata": {
        "id": "p3wR_BHBEd1c"
      },
      "source": [
        "MARGIN = 4\n",
        "ROWS = 4\n",
        "COLS = 7\n",
        "\n",
        "NOISE_SIZE = 100\n",
        "SAVE_FREQ = 100\n",
        "\n",
        "EPOCHS = 100000\n",
        "GENERATE_RES = 3\n",
        "\n",
        "BATCH_SIZE = 128\n",
        "IMAGE_SIZE = 128\n",
        "IMAGE_CHANNELS = 3\n",
        "\n",
        "IMAGE_DIR = 'drive/MyDrive/output_dir/portrait'\n",
        "\n",
        "images_path = IMAGE_DIR "
      ],
      "execution_count": null,
      "outputs": []
    },
    {
      "cell_type": "code",
      "metadata": {
        "id": "6_CVj6MzEBBb"
      },
      "source": [
        "img = os.listdir(images_path)\n",
        "idx = np.random.randint(0, len(img), BATCH_SIZE)\n",
        "\n",
        "for i in range(len(img)):\n",
        "    path = os.path.join(images_path, img[i])\n",
        "    print(path)\n",
        "    image = Image.open(path).resize((IMAGE_SIZE, IMAGE_SIZE), Image.ANTIALIAS).convert('RGB')\n",
        "    image.save(path)\n"
      ],
      "execution_count": null,
      "outputs": []
    },
    {
      "cell_type": "code",
      "metadata": {
        "id": "GXtXo8SWFAdo"
      },
      "source": [
        "def discriminator(image_shape):\n",
        "    disc = Sequential()\n",
        "    \n",
        "    disc.add(Conv2D(32, kernel_size=3, strides=2, input_shape=image_shape, padding=\"same\"))\n",
        "    disc.add(LeakyReLU(alpha=0.2))\n",
        "\n",
        "    disc.add(Conv2D(32, kernel_size=3, strides=2, padding=\"same\"))\n",
        "    disc.add(LeakyReLU(alpha=0.2))\n",
        "    disc.add(BatchNormalization(momentum=0.8))\n",
        "    disc.add(Dropout(0.25))\n",
        "\n",
        "    disc.add(Conv2D(64, kernel_size=3, strides=2, padding=\"same\"))\n",
        "    disc.add(LeakyReLU(alpha=0.2))\n",
        "    disc.add(BatchNormalization(momentum=0.8))\n",
        "\n",
        "    disc.add(Conv2D(64, kernel_size=3, strides=2, padding=\"same\"))\n",
        "    disc.add(LeakyReLU(alpha=0.2))\n",
        "    disc.add(BatchNormalization(momentum=0.8))\n",
        "    disc.add(Dropout(0.25))\n",
        "\n",
        "    disc.add(Conv2D(128, kernel_size=3, strides=2, padding=\"same\"))\n",
        "    disc.add(BatchNormalization(momentum=0.8))\n",
        "    disc.add(LeakyReLU(alpha=0.2))\n",
        "\n",
        "    disc.add(Conv2D(128, kernel_size=3, strides=2, padding=\"same\"))\n",
        "    disc.add(LeakyReLU(alpha=0.2))\n",
        "    disc.add(BatchNormalization(momentum=0.8))\n",
        "    disc.add(Dropout(0.25))\n",
        "\n",
        "\n",
        "    disc.add(Conv2D(256, kernel_size=3, strides=1, padding=\"same\"))\n",
        "    disc.add(LeakyReLU(alpha=0.2))\n",
        "    disc.add(BatchNormalization(momentum=0.8))\n",
        "\n",
        "    disc.add(Conv2D(512, kernel_size=3, strides=1, padding=\"same\"))\n",
        "    disc.add(BatchNormalization(momentum=0.8))\n",
        "    disc.add(LeakyReLU(alpha=0.2))\n",
        "    disc.add(Dropout(0.25))\n",
        "\n",
        "    disc.add(Flatten())\n",
        "    disc.add(LeakyReLU(alpha=0.2))\n",
        "    disc.add(Dense(1, activation=\"sigmoid\"))\n",
        "    \n",
        "    input_image = Input(shape=image_shape)\n",
        "    validity = disc(input_image)\n",
        "\n",
        "    plot_model(disc, show_shapes=True, show_layer_names=True, to_file='discriminator.png')\n",
        "\n",
        "    return Model(input_image, validity)\n",
        "\n"
      ],
      "execution_count": null,
      "outputs": []
    },
    {
      "cell_type": "code",
      "metadata": {
        "id": "5ys6ZMDOS4DQ"
      },
      "source": [
        "# discriminator((IMAGE_SIZE, IMAGE_SIZE, IMAGE_CHANNELS))\n",
        "# Iimage('discriminator.png')"
      ],
      "execution_count": null,
      "outputs": []
    },
    {
      "cell_type": "code",
      "metadata": {
        "id": "ioavhA2vGF5L"
      },
      "source": [
        "def generator(noise_size, channels):\n",
        "    gen = Sequential()\n",
        "    gen.add(Dense(4 * 4 * 256, activation=\"relu\", input_dim=noise_size))\n",
        "    gen.add(Reshape((4, 4, 256)))\n",
        "    gen.add(UpSampling2D())\n",
        "    \n",
        "    gen.add(Conv2D(256, kernel_size=3, padding=\"same\"))\n",
        "    gen.add(BatchNormalization(momentum=0.8))\n",
        "    gen.add(Activation(\"relu\"))\n",
        "    gen.add(UpSampling2D())\n",
        "\n",
        "    gen.add(Conv2D(256, kernel_size=3, padding=\"same\"))\n",
        "    gen.add(BatchNormalization(momentum=0.8))\n",
        "    gen.add(Activation(\"relu\"))\n",
        "\n",
        "    for i in range(GENERATE_RES):\n",
        "         gen.add(UpSampling2D())\n",
        "         gen.add(Conv2D(256, kernel_size=3, padding=\"same\"))\n",
        "         gen.add(BatchNormalization(momentum=0.8))\n",
        "         gen.add(Activation(\"relu\"))\n",
        "         gen.summary()\n",
        "\n",
        "    gen.add(Conv2D(channels, kernel_size=3, padding=\"same\"))\n",
        "    gen.add(Activation(\"tanh\"))\n",
        "    \n",
        "    input = Input(shape=(noise_size,))\n",
        "    generated_image = gen(input)\n",
        "    \n",
        "    # plot_model(gen, show_shapes=True, show_layer_names=True, to_file='generator.png')\n",
        "\n",
        "    return Model(input, generated_image)"
      ],
      "execution_count": null,
      "outputs": []
    },
    {
      "cell_type": "code",
      "metadata": {
        "id": "MWMw2UGpUnRn"
      },
      "source": [
        "# build_generator(NOISE_SIZE, IMAGE_CHANNELS)\n",
        "# Iimage('generator.png')"
      ],
      "execution_count": null,
      "outputs": []
    },
    {
      "cell_type": "code",
      "metadata": {
        "id": "3yKLIzqvG7T5"
      },
      "source": [
        "def save_img(cnt, noise):\n",
        "    image_array = np.full((\n",
        "        MARGIN + (ROWS * (IMAGE_SIZE + MARGIN)),\n",
        "        MARGIN + (COLS * (IMAGE_SIZE + MARGIN)), 3),\n",
        "        255, dtype=np.uint8)\n",
        "    \n",
        "    generated_images = generator.predict(noise)\n",
        "    generated_images = 0.5 * generated_images + 0.5\n",
        "    image_count = 0\n",
        "\n",
        "    for row in range(ROWS):\n",
        "        for col in range(COLS):\n",
        "            r = row * (IMAGE_SIZE + MARGIN) + MARGIN\n",
        "            c = col * (IMAGE_SIZE + MARGIN) + MARGIN\n",
        "            image_array[r:r + IMAGE_SIZE, c:c +\n",
        "                        IMAGE_SIZE] = generated_images[image_count] * 255\n",
        "            image_count += 1\n",
        "            \n",
        "    output_path = 'output'\n",
        "    if not os.path.exists(output_path):\n",
        "        os.makedirs(output_path)\n",
        "    filename = os.path.join(output_path, f\"trained-{cnt}.png\")\n",
        "    im = Image.fromarray(image_array)\n",
        "    im.save(filename)"
      ],
      "execution_count": null,
      "outputs": []
    },
    {
      "cell_type": "code",
      "metadata": {
        "id": "DgsMRT_6HUI5"
      },
      "source": [
        "img = os.listdir(images_path)\n",
        "\n",
        "shape = (IMAGE_SIZE, IMAGE_SIZE, IMAGE_CHANNELS)\n",
        "optimizer = Adam(1.5e-9, 0.5)\n",
        "discriminator = discriminator(shape)\n",
        "\n",
        "discriminator.compile(loss=\"binary_crossentropy\",optimizer=optimizer, metrics=[\"accuracy\"])\n",
        "generator = generator(NOISE_SIZE, IMAGE_CHANNELS)\n",
        "random_input = Input(shape=(NOISE_SIZE,))\n",
        "generated_image = generator(random_input)\n",
        "discriminator.trainable = False\n",
        "\n",
        "validity = discriminator(generated_image)\n",
        "combined = Model(random_input, validity)\n",
        "combined.compile(loss=\"binary_crossentropy\", optimizer=optimizer, metrics=[\"accuracy\"])\n",
        "y_real = np.ones((BATCH_SIZE, 1))\n",
        "y_fake = np.zeros((BATCH_SIZE, 1))\n",
        "fixed_noise = np.random.normal(0, 1, (ROWS * COLS, NOISE_SIZE))\n",
        "\n",
        "cnt = 1\n",
        "\n",
        "for epoch in range(EPOCHS):\n",
        "  training_data = []\n",
        "  idx = np.random.randint(0, len(img), BATCH_SIZE)\n",
        "\n",
        "  for i in idx:\n",
        "      path = os.path.join(images_path, img[i])\n",
        "      image = Image.open(path)\n",
        "      training_data.append(np.asarray(image))\n",
        "  \n",
        "  training_data = np.reshape(training_data, (-1, IMAGE_SIZE, IMAGE_SIZE, IMAGE_CHANNELS))\n",
        "  x_real = training_data / 127.5 - 1\n",
        "\n",
        " \n",
        "  noise = np.random.normal(0, 1, (BATCH_SIZE, NOISE_SIZE))\n",
        "  x_fake = generator.predict(noise)\n",
        " \n",
        "  discriminator_metric_real = discriminator.train_on_batch(x_real, y_real)\n",
        "  discriminator_metric_generated = discriminator.train_on_batch(x_fake, y_fake)\n",
        "  \n",
        "  discriminator_metric = 0.5 * np.add(discriminator_metric_real, discriminator_metric_generated)\n",
        "  generator_metric = combined.train_on_batch(noise, y_real)\n",
        "\n",
        "  if epoch % SAVE_FREQ == 0:\n",
        "    save_img(cnt, fixed_noise)\n",
        "    cnt += 1\n",
        "  \n",
        "    print(f\"{epoch} epoch, Generator accuracy: {100 * generator_metric[1]}, Discriminator accuracy: {100 *  discriminator_metric[1]}\")\n"
      ],
      "execution_count": null,
      "outputs": []
    },
    {
      "cell_type": "code",
      "metadata": {
        "id": "FpYtfCFfIvqC"
      },
      "source": [
        "  # !rm -rf output"
      ],
      "execution_count": null,
      "outputs": []
    }
  ]
}